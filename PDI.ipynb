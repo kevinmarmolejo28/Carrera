{
  "nbformat": 4,
  "nbformat_minor": 0,
  "metadata": {
    "colab": {
      "name": "Untitled0.ipynb",
      "provenance": [],
      "authorship_tag": "ABX9TyMn9kGFFSl28wHzvkij/jBl",
      "include_colab_link": true
    },
    "kernelspec": {
      "name": "python3",
      "display_name": "Python 3"
    }
  },
  "cells": [
    {
      "cell_type": "markdown",
      "metadata": {
        "id": "view-in-github",
        "colab_type": "text"
      },
      "source": [
        "<a href=\"https://colab.research.google.com/github/kevinmarmolejo28/Carrera/blob/master/PDI.ipynb\" target=\"_parent\"><img src=\"https://colab.research.google.com/assets/colab-badge.svg\" alt=\"Open In Colab\"/></a>"
      ]
    },
    {
      "cell_type": "code",
      "metadata": {
        "id": "9A8CUmNKjLxv",
        "colab_type": "code",
        "colab": {}
      },
      "source": [
        "from google.colab import drive\n",
        "drive.mount('/content/drive')"
      ],
      "execution_count": 0,
      "outputs": []
    },
    {
      "cell_type": "markdown",
      "metadata": {
        "id": "aTK7TMq1mUG5",
        "colab_type": "text"
      },
      "source": [
        "Importar librerias"
      ]
    },
    {
      "cell_type": "code",
      "metadata": {
        "id": "Ix5lo86umQMi",
        "colab_type": "code",
        "colab": {}
      },
      "source": [
        "import numpy as np\n",
        "import matplotlib.pyplot as plt\n",
        "import cv2\n",
        "\n",
        "#graficar imagenes estaticas en el notebook\n",
        "%matplotlib inline"
      ],
      "execution_count": 0,
      "outputs": []
    },
    {
      "cell_type": "markdown",
      "metadata": {
        "id": "wWbsru9gn3ku",
        "colab_type": "text"
      },
      "source": [
        "Formula habitual de leer y mostrar una imagen (no sirve en colab)"
      ]
    },
    {
      "cell_type": "code",
      "metadata": {
        "id": "THsnDtr1n86z",
        "colab_type": "code",
        "colab": {}
      },
      "source": [
        "image = cv2.imread('/content/drive/My Drive/9 Semestre/PDI/imagenes/uao-1.jpg')\n",
        "cv2.imshow(\"Image\", image)\n",
        "cv2.waitKey(0)"
      ],
      "execution_count": 0,
      "outputs": []
    },
    {
      "cell_type": "markdown",
      "metadata": {
        "id": "bmuEGokSqAUh",
        "colab_type": "text"
      },
      "source": [
        "Solución para mostrar imagenes en colab"
      ]
    },
    {
      "cell_type": "code",
      "metadata": {
        "id": "kLcddw5MqeDY",
        "colab_type": "code",
        "colab": {}
      },
      "source": [
        "from google.colab.patches import cv2_imshow\n",
        "img = cv2.imread('/content/drive/My Drive/9 Semestre/PDI/Imagenes/uao-1.jpg')\n",
        "cv2_imshow(img)"
      ],
      "execution_count": 0,
      "outputs": []
    },
    {
      "cell_type": "markdown",
      "metadata": {
        "id": "e26laURlrjSK",
        "colab_type": "text"
      },
      "source": [
        "Como cambiar rutas de folders\n",
        "\n",
        "Como cambiar tamaño"
      ]
    },
    {
      "cell_type": "code",
      "metadata": {
        "id": "fKgcHg_prvc5",
        "colab_type": "code",
        "colab": {}
      },
      "source": [
        "!pwd\n",
        "!ls\n",
        "#%cd ../\n",
        "%cd /content/drive/My Drive/9 Semestre/PDI/Imagenes/\n",
        "!pwd\n",
        "\n",
        "from google.colab.patches import cv2_imshow\n",
        "img = cv2.imread('uao-1.jpg')\n",
        "img = cv2.resize(img, (int(300),int(300)))\n",
        "cv2_imshow(img)"
      ],
      "execution_count": 0,
      "outputs": []
    },
    {
      "cell_type": "markdown",
      "metadata": {
        "id": "b5dHFVHgwiTK",
        "colab_type": "text"
      },
      "source": [
        "Opcion 2"
      ]
    },
    {
      "cell_type": "code",
      "metadata": {
        "id": "17uUJz8-wjz2",
        "colab_type": "code",
        "colab": {}
      },
      "source": [
        "import os\n",
        "\n",
        "path='/content/drive/My Drive/9 Semestre/PDI/Imagenes/'\n",
        "os.chdir(path)\n",
        "!pwd\n",
        "\n",
        "img = cv2.imread('uao-1.jpg')\n",
        "img = cv2.resize(img, None, fx=0.5,fy=0.5)\n",
        "cv2_imshow(img)"
      ],
      "execution_count": 0,
      "outputs": []
    },
    {
      "cell_type": "markdown",
      "metadata": {
        "id": "wIiFSPKtxw9L",
        "colab_type": "text"
      },
      "source": [
        "Leer y mostrar imagen con plot"
      ]
    },
    {
      "cell_type": "code",
      "metadata": {
        "id": "Zvr4LSaJx2Gy",
        "colab_type": "code",
        "colab": {}
      },
      "source": [
        "# Leer una imagen\n",
        "\n",
        "img_BGR = cv2.imread('uao-1.jpg', cv2.IMREAD_COLOR)\n",
        "plt.figure(figsize=(7,7))\n",
        "plt.imshow(img_BGR)\n",
        "plt.show()"
      ],
      "execution_count": 0,
      "outputs": []
    }
  ]
}